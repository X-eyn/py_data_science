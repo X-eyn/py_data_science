{
 "cells": [
  {
   "cell_type": "code",
   "execution_count": 31,
   "metadata": {},
   "outputs": [],
   "source": [
    "import pandas as pd\n",
    "import numpy as np"
   ]
  },
  {
   "cell_type": "markdown",
   "metadata": {},
   "source": [
    "# NumPy"
   ]
  },
  {
   "cell_type": "markdown",
   "metadata": {},
   "source": [
    "## Arrays"
   ]
  },
  {
   "cell_type": "code",
   "execution_count": 32,
   "metadata": {},
   "outputs": [
    {
     "data": {
      "text/plain": [
       "array([1, 2, 3, 4, 5])"
      ]
     },
     "execution_count": 32,
     "metadata": {},
     "output_type": "execute_result"
    }
   ],
   "source": [
    "l1 = [1,2,3,4,5]\n",
    "npa1=np.array(l1)\n",
    "npa1"
   ]
  },
  {
   "cell_type": "markdown",
   "metadata": {},
   "source": [
    "### Create Array in Range\n"
   ]
  },
  {
   "cell_type": "code",
   "execution_count": 33,
   "metadata": {},
   "outputs": [
    {
     "name": "stdout",
     "output_type": "stream",
     "text": [
      "[1 2 3 4]\n",
      "[1 3]\n"
     ]
    }
   ],
   "source": [
    "npa1=np.arange(1,5)\n",
    "print(npa1)\n",
    "\n",
    "#With steps increment\n",
    "npa2=np.arange(1,5,2)\n",
    "print(npa2)\n"
   ]
  },
  {
   "cell_type": "markdown",
   "metadata": {},
   "source": [
    "## Matrix\n"
   ]
  },
  {
   "cell_type": "code",
   "execution_count": 34,
   "metadata": {},
   "outputs": [
    {
     "data": {
      "text/plain": [
       "array([[7, 7, 7],\n",
       "       [7, 7, 7],\n",
       "       [7, 7, 7]])"
      ]
     },
     "execution_count": 34,
     "metadata": {},
     "output_type": "execute_result"
    }
   ],
   "source": [
    "#How to define a matrix\n",
    "\n",
    "#Directly declare the matrix as a 2D array list\n",
    "mat1=np.array([[1,2,3],[4,5,6],[7,8,9]])\n",
    "mat1\n",
    "\n",
    "#Create a 3x3 matrix with random float values\n",
    "mat2= np.random.rand(3,3)\n",
    "mat2\n",
    "\n",
    "#Create a 3x3 matrix with random int values\n",
    "mat3= np.random.randint(0,40,(3,3))\n",
    "mat3\n",
    "\n",
    "#Create matrix filled with Zeros\n",
    "mat4=np.zeros((3,3))\n",
    "mat4\n",
    "\n",
    "#Create matrix filled with Ones\n",
    "mat5=np.ones((3,3))\n",
    "mat5\n",
    "\n",
    "#Create identity matrix\n",
    "mat6=np.eye((5))\n",
    "mat6\n",
    "\n",
    "#Create matrix filled with specified value\n",
    "mat7=np.full((3,3),7)\n",
    "mat7\n",
    "\n"
   ]
  },
  {
   "cell_type": "markdown",
   "metadata": {},
   "source": [
    "## Generate Defined Number of Values within a range"
   ]
  },
  {
   "cell_type": "code",
   "execution_count": 39,
   "metadata": {},
   "outputs": [
    {
     "data": {
      "text/plain": [
       "array([ 1. ,  5.5, 10. ])"
      ]
     },
     "execution_count": 39,
     "metadata": {},
     "output_type": "execute_result"
    }
   ],
   "source": [
    "val1=np.linspace(1,10,3)\n",
    "val1"
   ]
  },
  {
   "cell_type": "code",
   "execution_count": null,
   "metadata": {},
   "outputs": [],
   "source": [
    "                        result = self.model.transcribe(\n",
    "                            audio_data, language='en')\n",
    "                        if result['text'].strip():"
   ]
  }
 ],
 "metadata": {
  "kernelspec": {
   "display_name": "base",
   "language": "python",
   "name": "python3"
  },
  "language_info": {
   "codemirror_mode": {
    "name": "ipython",
    "version": 3
   },
   "file_extension": ".py",
   "mimetype": "text/x-python",
   "name": "python",
   "nbconvert_exporter": "python",
   "pygments_lexer": "ipython3",
   "version": "3.12.3"
  }
 },
 "nbformat": 4,
 "nbformat_minor": 2
}
